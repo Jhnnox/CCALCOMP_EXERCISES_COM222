{
  "cells": [
    {
      "cell_type": "markdown",
      "metadata": {
        "id": "-8bYOEC8HOQ4"
      },
      "source": [
        "# Exercise 5\n",
        "\n",
        "Please follow the instructions in each number."
      ]
    },
    {
      "cell_type": "markdown",
      "metadata": {
        "id": "FEPXLUAPHOQ6"
      },
      "source": [
        "### Maximum Subarray\n",
        "Given an array of integers nums, find the subarray with the largest sum and return the sum.\n",
        "\n",
        "A subarray is a contiguous non-empty sequence of elements within an array.\n",
        "\n",
        "\n",
        "\n",
        "Example 1:\n",
        "\n",
        "Input: nums = [2,-3,4,-2,2,1,-1,4]\n",
        "\n",
        "Output: 8\n",
        "\n",
        "Explanation: The subarray [4,-2,2,1,-1,4] has the largest sum 8."
      ]
    },
    {
      "cell_type": "markdown",
      "metadata": {
        "id": "D4a-4yS4HOQ7"
      },
      "source": [
        "## Tasks"
      ]
    },
    {
      "cell_type": "markdown",
      "metadata": {
        "id": "v8mlE6kYHOQ7"
      },
      "source": [
        "1. Put your student number in a list and manually compute the maximum subarray in your student number (`10 points`)"
      ]
    },
    {
      "cell_type": "code",
      "execution_count": 1,
      "metadata": {
        "vscode": {
          "languageId": "plaintext"
        },
        "id": "YJMIVpuTHOQ8",
        "outputId": "403d5ce3-fdfb-4a51-e401-4bd81311609c",
        "colab": {
          "base_uri": "https://localhost:8080/"
        }
      },
      "outputs": [
        {
          "output_type": "stream",
          "name": "stdout",
          "text": [
            "The largest sum of a subarray is: 20\n"
          ]
        }
      ],
      "source": [
        "nums = [2, 0, 2, 2, -1, 0, 6, 6, 2, 1]\n",
        "result = 2 + 0 + 2 + 2 + -1 + 0 + 6 + 6 + 2 + 1\n",
        "print(\"The largest sum of a subarray is:\", result)"
      ]
    },
    {
      "cell_type": "markdown",
      "metadata": {
        "id": "nchQgI2KHOQ8"
      },
      "source": [
        "2. Write a program using a brute-force approach to get the maximum-subarray of your student number (`40 points`)"
      ]
    },
    {
      "cell_type": "code",
      "execution_count": 2,
      "metadata": {
        "vscode": {
          "languageId": "plaintext"
        },
        "id": "b9P6oe11HOQ9",
        "outputId": "6585525b-ea47-47fe-f18f-a91ab7814e7c",
        "colab": {
          "base_uri": "https://localhost:8080/"
        }
      },
      "outputs": [
        {
          "output_type": "stream",
          "name": "stdout",
          "text": [
            "The largest sum of a subarray is: 20\n"
          ]
        }
      ],
      "source": [
        "def maxSubArraySum(nums):\n",
        "    n = len(nums)\n",
        "    maxSum = float('-inf')\n",
        "\n",
        "    for start in range(n):\n",
        "        currentSum = 0\n",
        "        for end in range(start, n):\n",
        "            currentSum += nums[end]\n",
        "\n",
        "            if currentSum > maxSum:\n",
        "                maxSum = currentSum\n",
        "\n",
        "    return maxSum\n",
        "\n",
        "nums = [2, 0, 2, 2, -1, 0, 6, 6, 2, 1]\n",
        "result = maxSubArraySum(nums)\n",
        "print(\"The largest sum of a subarray is:\", result)"
      ]
    },
    {
      "cell_type": "markdown",
      "metadata": {
        "id": "NkqAxIx_HOQ9"
      },
      "source": [
        "3. Write a program using a dynamic programming to get the maximum-subarray of your student number (`50 points`)"
      ]
    },
    {
      "cell_type": "code",
      "execution_count": 3,
      "metadata": {
        "vscode": {
          "languageId": "plaintext"
        },
        "id": "BFBp2ARLHOQ9",
        "outputId": "bdf6868d-7920-4b93-eb06-09f29ea79ce3",
        "colab": {
          "base_uri": "https://localhost:8080/"
        }
      },
      "outputs": [
        {
          "output_type": "stream",
          "name": "stdout",
          "text": [
            "The largest sum of a subarray is: 20\n"
          ]
        }
      ],
      "source": [
        "def maxSubarraySum(nums):\n",
        "    if not nums:\n",
        "        return 0\n",
        "\n",
        "    currentMax = globalMax = nums[0]\n",
        "\n",
        "    for num in nums[1:]:\n",
        "        currentMax = max(num, currentMax + num)\n",
        "        globalMax = max(globalMax, currentMax)\n",
        "\n",
        "    return globalMax\n",
        "\n",
        "nums = [2, 0, 2, 2, -1, 0, 6, 6, 2, 1]\n",
        "result = maxSubarraySum(nums)\n",
        "print(\"The largest sum of a subarray is:\", result)"
      ]
    }
  ],
  "metadata": {
    "colab": {
      "provenance": []
    },
    "kernelspec": {
      "display_name": "base",
      "language": "python",
      "name": "python3"
    },
    "language_info": {
      "codemirror_mode": {
        "name": "ipython",
        "version": 3
      },
      "file_extension": ".py",
      "mimetype": "text/x-python",
      "name": "python",
      "nbconvert_exporter": "python",
      "pygments_lexer": "ipython3",
      "version": "3.9.6"
    }
  },
  "nbformat": 4,
  "nbformat_minor": 0
}